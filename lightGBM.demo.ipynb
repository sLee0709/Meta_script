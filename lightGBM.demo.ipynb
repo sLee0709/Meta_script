{
 "cells": [
  {
   "cell_type": "markdown",
   "id": "d7afadc9-d709-4dda-9524-79bb55ca8594",
   "metadata": {},
   "source": [
    "0. 导入必要的包"
   ]
  },
  {
   "cell_type": "code",
   "execution_count": null,
   "id": "6fe32669-a326-40e2-8c22-53fcaf864bbc",
   "metadata": {},
   "outputs": [],
   "source": [
    "import lightgbm as lgb\n",
    "from sklearn.datasets import load_iris\n",
    "from sklearn.model_selection import StratifiedKFold, GridSearchCV\n",
    "from sklearn.metrics import roc_auc_score\n",
    "import numpy as np"
   ]
  },
  {
   "cell_type": "markdown",
   "id": "b040815a-90cf-416f-8624-0c98b940e0b4",
   "metadata": {},
   "source": [
    "1. 加载数据集"
   ]
  },
  {
   "cell_type": "code",
   "execution_count": null,
   "id": "1d24dedb-66fd-4347-be83-0993523afd51",
   "metadata": {},
   "outputs": [],
   "source": [
    "data = load_iris()\n",
    "X = data.data\n",
    "y = (data.target != 0).astype(int)  # 将鸢尾花数据集转换为二分类问题"
   ]
  },
  {
   "cell_type": "markdown",
   "id": "70ffeca5-b325-4e30-aa2e-4fedeb796dec",
   "metadata": {},
   "source": [
    "2. 创建 StratifiedKFold 对象（这里使用 10-fold 交叉验证）"
   ]
  },
  {
   "cell_type": "code",
   "execution_count": null,
   "id": "78f40e40-c992-4c69-bf73-c5ec5f67fe08",
   "metadata": {},
   "outputs": [],
   "source": [
    "kf = StratifiedKFold(n_splits=10, shuffle=True, random_state=123)"
   ]
  },
  {
   "cell_type": "markdown",
   "id": "ea953eb2-cc84-411a-b5b8-43abf115b4ae",
   "metadata": {},
   "source": [
    "3. LightGBM 参数网格设置"
   ]
  },
  {
   "cell_type": "code",
   "execution_count": null,
   "id": "6bcdb907-8bec-4ac0-be0f-b37cf4e32393",
   "metadata": {},
   "outputs": [],
   "source": [
    "param_grid = {\n",
    "    'learning_rate': [0.01, 0.05, 0.1],  # 学习率\n",
    "    'num_leaves': [31, 50, 100],  # 叶子节点数\n",
    "    'max_depth': [-1, 10, 20],  # 树的最大深度\n",
    "    'min_child_samples': [20, 30, 50],  # 一个叶子节点中最小的样本数\n",
    "    'subsample': [0.8, 0.9, 1.0],  # 数据采样率\n",
    "    'colsample_bytree': [0.8, 0.9, 1.0],  # 特征采样率\n",
    "    'reg_alpha': [0, 0.01, 0.1],  # L1 正则化\n",
    "    'reg_lambda': [0, 0.01, 0.1],  # L2 正则化\n",
    "    #'scale_pos_weight': [pos_weight]  方法1：手动设置两类数据的权重，在这之前先计算权重：pos_weight = sum(y == 0) / sum(y == 1)\n",
    "    #'is_unbalance': [True]  方法2：通过is_balance参数自动调整数据平衡\n",
    "}"
   ]
  },
  {
   "cell_type": "markdown",
   "id": "cdec8433-1404-46b7-99a2-02665f56dfdc",
   "metadata": {},
   "source": [
    "4. 定义 LightGBM 分类器"
   ]
  },
  {
   "cell_type": "code",
   "execution_count": null,
   "id": "7f51d4f4-d7a9-47ec-824f-006ea5344301",
   "metadata": {},
   "outputs": [],
   "source": [
    "lgb_estimator = lgb.LGBMClassifier(objective='binary', metric='auc')"
   ]
  },
  {
   "cell_type": "markdown",
   "id": "b58ef7ed-1a18-4696-b378-b3cf62250be7",
   "metadata": {},
   "source": [
    "5. 使用 GridSearchCV 进行超参数调优和交叉验证"
   ]
  },
  {
   "cell_type": "code",
   "execution_count": null,
   "id": "de708429-8e0f-40e7-8b44-4ee02897077e",
   "metadata": {},
   "outputs": [],
   "source": [
    "grid = GridSearchCV(estimator=lgb_estimator, param_grid=param_grid, cv=kf, scoring='roc_auc', verbose=1, n_jobs=-1)\n",
    "grid.fit(X, y)"
   ]
  },
  {
   "cell_type": "markdown",
   "id": "a520b2c8-7ce8-4946-a9c9-f3cdd40435ce",
   "metadata": {},
   "source": [
    "6. 输出最佳参数和最佳交叉验证 AUC"
   ]
  },
  {
   "cell_type": "code",
   "execution_count": null,
   "id": "3c1af391-9312-49e5-a959-62827031f177",
   "metadata": {},
   "outputs": [],
   "source": [
    "print(f\"最佳参数: {grid.best_params_}\")\n",
    "print(f\"10-fold 交叉验证的最佳 AUC: {grid.best_score_}\")"
   ]
  },
  {
   "cell_type": "markdown",
   "id": "610b3918-0e26-4bb8-9bcc-6906b240b84f",
   "metadata": {},
   "source": [
    "7. 使用最佳参数重新训练模型"
   ]
  },
  {
   "cell_type": "code",
   "execution_count": null,
   "id": "029f8771-e9b4-409b-a47c-c27198aed6a1",
   "metadata": {},
   "outputs": [],
   "source": [
    "best_params = grid.best_params_\n",
    "best_model = lgb.LGBMClassifier(**best_params, objective='binary', metric='auc')"
   ]
  },
  {
   "cell_type": "markdown",
   "id": "57f198bd-e248-4cef-a0f0-32d94b7d56d1",
   "metadata": {},
   "source": [
    "8. 重新训练模型，并用 StratifiedKFold 验证最终结果"
   ]
  },
  {
   "cell_type": "code",
   "execution_count": null,
   "id": "a1260b49-b220-404d-9cfc-2ef93065733d",
   "metadata": {},
   "outputs": [],
   "source": [
    "auc_scores = []\n",
    "for train_index, test_index in kf.split(X, y):\n",
    "    X_train, X_test = X[train_index], X[test_index]\n",
    "    y_train, y_test = y[train_index], y[test_index]\n",
    "\n",
    "    # 使用最佳参数训练模型\n",
    "    best_model.fit(X_train, y_train)\n",
    "\n",
    "    # 预测概率，用于计算 AUC\n",
    "    y_pred_proba = best_model.predict_proba(X_test)[:, 1]\n",
    "\n",
    "    # 计算 AUC\n",
    "    auc = roc_auc_score(y_test, y_pred_proba)\n",
    "    auc_scores.append(auc)"
   ]
  },
  {
   "cell_type": "markdown",
   "id": "4ce7a2bd-d4db-4d2f-8341-6fc1e7353b1b",
   "metadata": {},
   "source": [
    "9. 输出最终的平均 AUC"
   ]
  },
  {
   "cell_type": "code",
   "execution_count": null,
   "id": "d8a222dd-d770-4fac-ba2c-d835abc703ab",
   "metadata": {},
   "outputs": [],
   "source": [
    "mean_auc = np.mean(auc_scores)\n",
    "print(f\"使用最佳参数进行 10-fold 交叉验证的平均 AUC: {mean_auc:.2f}\")\n",
    "\n",
    "# -------------------------------------------------------------- 分割线 --------------------------------------------------------------"
   ]
  },
  {
   "cell_type": "markdown",
   "id": "c1683b4f-b48e-48de-8596-b569bfbf6519",
   "metadata": {},
   "source": [
    "以上就是通过GridSearch搜索最佳超参数，然后基于LightGBM构建二分类预测模型并进行10折交叉验证的代码。在实际建模过程中，我们可能还需要考虑到特征筛选的问题，即我们给不需要用到矩阵中所有的元素来建模，而是根据它们的importance来挑选几个重要的特征然后再根据这些特征选择合适的模型。关于特征筛选可以有几种方式：\n",
    "\n",
    "1. **通过先验知识来过滤特征。** 例如，我们有一个基因表达矩阵，希望预测病人是否患病。我们已知Wnt这个信号通路与疾病强相关，那我们就可以只用Wnt通路相关的基因来构建表达矩阵进行建模；\n",
    "2. **通过设定硬阈值来筛选特征。**\n",
    "3. **通过递归特征消除（RFE）来选择特征。**"
   ]
  },
  {
   "cell_type": "markdown",
   "id": "692f8204-5a88-459d-95e0-8974bbbc3086",
   "metadata": {},
   "source": [
    "首先我们来看手动设定特征importance阈值来筛选特征："
   ]
  },
  {
   "cell_type": "code",
   "execution_count": null,
   "id": "52827fd4-8e10-4e8d-88d0-c825ffdf088d",
   "metadata": {},
   "outputs": [],
   "source": [
    "...\n",
    "# 7. 获取特征重要性并移除不重要的特征\n",
    "best_model = grid.best_estimator_\n",
    "feature_importances = best_model.feature_importances_\n",
    "print(\"特征重要性:\", feature_importances)\n",
    "\n",
    "# 设置一个特征重要性阈值，移除不重要的特征，这里的threshold可根据需求修改\n",
    "threshold = 10\n",
    "important_features_idx = np.where(feature_importances > threshold)[0]\n",
    "\n",
    "# 只保留重要特征\n",
    "X_important = X[:, important_features_idx]"
   ]
  },
  {
   "cell_type": "markdown",
   "id": "bfd78f80-f72e-409f-9dbf-f5b0e7a95983",
   "metadata": {},
   "source": [
    "后续代码："
   ]
  },
  {
   "cell_type": "code",
   "execution_count": null,
   "id": "1b3d8f00-f7f3-483a-a47b-5ac413e6d313",
   "metadata": {},
   "outputs": [],
   "source": [
    "# 8. 使用仅保留重要特征的数据重新进行交叉验证\n",
    "auc_scores = []\n",
    "for train_index, test_index in kf.split(X_important, y):\n",
    "    X_train, X_test = X_important[train_index], X_important[test_index]\n",
    "    y_train, y_test = y[train_index], y[test_index]\n",
    "\n",
    "    # 重新训练模型\n",
    "    best_model.fit(X_train, y_train)\n",
    "\n",
    "    # 预测概率，用于计算 AUC\n",
    "    y_pred_proba = best_model.predict_proba(X_test)[:, 1]\n",
    "\n",
    "    # 计算 AUC\n",
    "    auc = roc_auc_score(y_test, y_pred_proba)\n",
    "    auc_scores.append(auc)\n",
    "\n",
    "# 9. 输出最终的平均 AUC\n",
    "mean_auc = np.mean(auc_scores)\n",
    "print(f\"使用重要特征进行 10-fold 交叉验证的平均 AUC: {mean_auc:.2f}\")"
   ]
  },
  {
   "cell_type": "markdown",
   "id": "3a059521-5995-4670-8198-2b834d98c59d",
   "metadata": {},
   "source": [
    "然后我们来看通过RFE方法来选择特征："
   ]
  },
  {
   "cell_type": "code",
   "execution_count": null,
   "id": "f12b0cf8-9a41-457e-b7d7-81e429ee6832",
   "metadata": {},
   "outputs": [],
   "source": [
    "from sklearn.feature_selection import RFE\n",
    "\n",
    "...\n",
    "\n",
    "# 4. 定义 LightGBM 分类器\n",
    "lgb_estimator = lgb.LGBMClassifier(objective='binary', metric='auc')\n",
    "\n",
    "# 5. 使用 RFE 进行特征选择\n",
    "rfe = RFE(lgb_estimator, n_features_to_select=2)  # 设置你想保留的特征数量\n",
    "rfe.fit(X, y)\n",
    "\n",
    "# 打印哪些特征被保留\n",
    "print(\"选中的特征:\", rfe.support_)\n",
    "print(\"特征排名:\", rfe.ranking_)\n",
    "\n",
    "# 使用选择后的特征进行交叉验证\n",
    "X_rfe = rfe.transform(X)\n",
    "\n",
    "# 8. 使用 RFE 选择后的特征进行交叉验证\n",
    "auc_scores = []\n",
    "for train_index, test_index in kf.split(X_rfe, y):\n",
    "    X_train, X_test = X_rfe[train_index], X_rfe[test_index]\n",
    "    y_train, y_test = y[train_index], y[test_index]\n",
    "\n",
    "    # 训练模型\n",
    "    best_model.fit(X_train, y_train)\n",
    "\n",
    "    # 预测概率，用于计算 AUC\n",
    "    y_pred_proba = best_model.predict_proba(X_test)[:, 1]\n",
    "\n",
    "    # 计算 AUC\n",
    "    auc = roc_auc_score(y_test, y_pred_proba)\n",
    "    auc_scores.append(auc)\n",
    "\n",
    "# 9. 输出最终的平均 AUC\n",
    "mean_auc = np.mean(auc_scores)\n",
    "print(f\"使用 RFE 进行 10-fold 交叉验证的平均 AUC: {mean_auc:.2f}\")"
   ]
  }
 ],
 "metadata": {
  "kernelspec": {
   "display_name": "Python 3 (ipykernel)",
   "language": "python",
   "name": "python3"
  },
  "language_info": {
   "codemirror_mode": {
    "name": "ipython",
    "version": 3
   },
   "file_extension": ".py",
   "mimetype": "text/x-python",
   "name": "python",
   "nbconvert_exporter": "python",
   "pygments_lexer": "ipython3",
   "version": "3.12.3"
  }
 },
 "nbformat": 4,
 "nbformat_minor": 5
}
